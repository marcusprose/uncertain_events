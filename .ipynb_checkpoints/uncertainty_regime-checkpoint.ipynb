{
 "cells": [
  {
   "cell_type": "code",
   "execution_count": 1,
   "id": "88e2ca89",
   "metadata": {},
   "outputs": [],
   "source": [
    "import numpy as np\n",
    "import pandas as pd\n",
    "import matplotlib as plot"
   ]
  },
  {
   "cell_type": "code",
   "execution_count": 15,
   "id": "4c3569fb",
   "metadata": {},
   "outputs": [],
   "source": [
    "class uncertainty_regime:\n",
    "    \n",
    "    def __init__(self, p_0, base_earnings, growth, growth_prime, risk_pre, rfr, ir, \n",
    "                             perpetual_growth, perpetual_return):\n",
    "        self.p_0 = p_0\n",
    "        self.base_earnings = base_earnings\n",
    "        self.growth = growth\n",
    "        self.growth_prime = growth_prime\n",
    "        self.risk_pre = risk_pre\n",
    "        self.rfr = rfr\n",
    "        self.ir = ir\n",
    "        self.perpetual_growth = perpetual_growth\n",
    "        self.perpetual_return = perpetual_return\n",
    "    \n",
    "    \n",
    "    def get_discount_rate(self) -> float:\n",
    "        return 1 / (1 + rf + risk_pre)\n",
    "    \n",
    "    def get_perpetual_p(self) -> float:\n",
    "        return 1 - perpetual_growth / perpetual_return\n",
    "    \n",
    "    def calculate_pv(self, n) -> float:\n",
    "        \"\"\"\n",
    "        Calculates the present value using the derivation outlined in the previous part of\n",
    "        Eigenthings\n",
    "        @params:\n",
    "            n   - Required  : number of years out to calculate future cash flows  (Int)\n",
    "            \n",
    "        \"\"\"\n",
    "        pv = 0\n",
    "        earnings = self.base_earnings\n",
    "        \n",
    "        # begin by iterating over n-1 projected years in the future\n",
    "        for i in range(1, n):\n",
    "            earnings = earnings*(1 + self.growth_prime) if i == 1 else earnings*(1 + self.growth)\n",
    "            new_p = self.p_0 + i * (get_perpetual_p() - p_0) / n\n",
    "            cf = earnings * new_p\n",
    "            pv += cf * get_discount_rate() ** i\n",
    "        \n",
    "        # calculate terminal value tv\n",
    "        tv = earnings * (1 + self.perpetual_growth) * get_perpetual_p() / (self.rfr + self.erp - self.perpetual_growth)\n",
    "        \n",
    "        # calculate the next year's cash flows CF_n\n",
    "        pv_next = tv * get_discount_rate ** n\n",
    "        \n",
    "        return pv + pv_next\n",
    "    \n",
    "    \n",
    "    def convert_p_to_growth(self, n, g_0, g_prime) -> float:\n",
    "        \"\"\"\n",
    "        Calcualtes the conversion between percentage of cash flows retained and the growth\n",
    "        rate using the derivation outlined in the previous part of Eigenthings\n",
    "        @params:\n",
    "            n   - Required  : number of years out to calculate future cash flows  (Int)\n",
    "            \n",
    "        \"\"\"\n",
    "        return -1 * ((1 + self.p * (g_prime - g_0) / (1 + g_0)) * (1 + g_prime) ** (n - 1))**(1/n)\n",
    "    \n",
    "    def total_valuation(self) -> float:\n",
    "        return       "
   ]
  }
 ],
 "metadata": {
  "kernelspec": {
   "display_name": "Python 3",
   "language": "python",
   "name": "python3"
  },
  "language_info": {
   "codemirror_mode": {
    "name": "ipython",
    "version": 3
   },
   "file_extension": ".py",
   "mimetype": "text/x-python",
   "name": "python",
   "nbconvert_exporter": "python",
   "pygments_lexer": "ipython3",
   "version": "3.9.1"
  }
 },
 "nbformat": 4,
 "nbformat_minor": 5
}
